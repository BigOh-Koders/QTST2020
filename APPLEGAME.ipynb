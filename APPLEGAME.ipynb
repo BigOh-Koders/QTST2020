{
 "cells": [
  {
   "cell_type": "code",
   "execution_count": null,
   "metadata": {
    "scrolled": true
   },
   "outputs": [],
   "source": [
    "import math\n",
    "\n",
    "ready=[0]*100000\n",
    "value=[0]*100000\n",
    "def solve(arr,su):\n",
    "    if (su==0):\n",
    "        return 0\n",
    "    elif(ready[su] == 1):\n",
    "        return value[su]\n",
    "    else:\n",
    "        best=math.inf\n",
    "        for i in arr:\n",
    "            if(i<=su):\n",
    "                best=min(best, (solve(arr,(su-i))+1))\n",
    "        value[su]=best\n",
    "        ready[su]=1\n",
    "        return best\n",
    "\n",
    "\n",
    "if __name__ == '__main__':\n",
    "    t=int(input())\n",
    "    while(t>0):\n",
    "        arr=list(map(int,input().split()))\n",
    "        su=int(input())\n",
    "        ans=solve(arr,su)\n",
    "        print(ans)\n",
    "        t-=1"
   ]
  }
 ],
 "metadata": {
  "kernelspec": {
   "display_name": "Python 3",
   "language": "python",
   "name": "python3"
  },
  "language_info": {
   "codemirror_mode": {
    "name": "ipython",
    "version": 3
   },
   "file_extension": ".py",
   "mimetype": "text/x-python",
   "name": "python",
   "nbconvert_exporter": "python",
   "pygments_lexer": "ipython3",
   "version": "3.7.3"
  }
 },
 "nbformat": 4,
 "nbformat_minor": 2
}
